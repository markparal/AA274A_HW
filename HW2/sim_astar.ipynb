{
 "cells": [
  {
   "cell_type": "markdown",
   "metadata": {},
   "source": [
    "# A* Motion Planning"
   ]
  },
  {
   "cell_type": "code",
   "execution_count": 1,
   "metadata": {},
   "outputs": [],
   "source": [
    "# The autoreload extension will automatically load in new code as you edit files, \n",
    "# so you don't need to restart the kernel every time\n",
    "%load_ext autoreload\n",
    "%autoreload 2\n",
    "import numpy as np\n",
    "import matplotlib.pyplot as plt\n",
    "import scipy.interpolate\n",
    "from P1_astar import DetOccupancyGrid2D, AStar\n",
    "from utils import generate_planning_problem"
   ]
  },
  {
   "cell_type": "code",
   "execution_count": null,
   "metadata": {},
   "outputs": [],
   "source": []
  },
  {
   "cell_type": "code",
   "execution_count": null,
   "metadata": {},
   "outputs": [],
   "source": []
  },
  {
   "cell_type": "code",
   "execution_count": null,
   "metadata": {},
   "outputs": [],
   "source": []
  },
  {
   "cell_type": "code",
   "execution_count": 2,
   "metadata": {},
   "outputs": [],
   "source": [
    "from asl_tb3_lib.navigation import TrajectoryPlan"
   ]
  },
  {
   "cell_type": "markdown",
   "metadata": {},
   "source": [
    "## Simple Environment\n",
    "(Please submit resulting plot from this section in your write-up)\n",
    "### Workspace"
   ]
  },
  {
   "cell_type": "code",
   "execution_count": 3,
   "metadata": {},
   "outputs": [],
   "source": [
    "width = 10\n",
    "height = 10\n",
    "obstacles = [((6,7),(8,8)),((2,2),(4,3)),((2,5),(4,7)),((6,3),(8,5))]\n",
    "occupancy = DetOccupancyGrid2D(width, height, obstacles)"
   ]
  },
  {
   "cell_type": "markdown",
   "metadata": {},
   "source": [
    "### Starting and final positions"
   ]
  },
  {
   "cell_type": "code",
   "execution_count": 4,
   "metadata": {},
   "outputs": [],
   "source": [
    "x_init = (1, 9)\n",
    "x_goal = (9, 1)"
   ]
  },
  {
   "cell_type": "markdown",
   "metadata": {},
   "source": [
    "### Run A* planning"
   ]
  },
  {
   "cell_type": "code",
   "execution_count": 5,
   "metadata": {},
   "outputs": [
    {
     "name": "stdout",
     "output_type": "stream",
     "text": [
      "1\n",
      "8\n",
      "10\n",
      "10\n",
      "10\n",
      "11\n",
      "12\n",
      "12\n",
      "14\n",
      "15\n",
      "16\n",
      "15\n",
      "15\n",
      "16\n",
      "16\n",
      "17\n",
      "17\n",
      "19\n",
      "21\n",
      "21\n",
      "23\n",
      "23\n",
      "24\n",
      "24\n",
      "24\n",
      "23\n",
      "23\n",
      "23\n",
      "22\n",
      "23\n",
      "25\n",
      "28\n",
      "29\n",
      "29\n",
      "30\n",
      "33\n",
      "34\n",
      "35\n",
      "36\n"
     ]
    },
    {
     "data": {
      "image/png": "[encoded data removed]",
      "text/plain": [
       "<Figure size 432x288 with 1 Axes>"
      ]
     },
     "metadata": {
      "needs_background": "light"
     },
     "output_type": "display_data"
    }
   ],
   "source": [
    "astar = AStar((0, 0), (width, height), x_init, x_goal, occupancy)\n",
    "if not astar.solve():\n",
    "    print(\"No path found\")\n",
    "else:\n",
    "    plt.rcParams['figure.figsize'] = [5, 5]\n",
    "    astar.plot_path()\n",
    "    astar.plot_tree()"
   ]
  },
  {
   "cell_type": "markdown",
   "metadata": {},
   "source": [
    "## Random Cluttered Environment\n",
    "### Generate workspace, start and goal positions\n",
    "(Try changing these and see what happens)"
   ]
  },
  {
   "cell_type": "code",
   "execution_count": 10,
   "metadata": {},
   "outputs": [],
   "source": [
    "width = 10\n",
    "height = 10\n",
    "num_obs = 25\n",
    "min_size = .5\n",
    "max_size = 3\n",
    "\n",
    "occupancy, x_init, x_goal = generate_planning_problem(width, height, num_obs, min_size, max_size)"
   ]
  },
  {
   "cell_type": "markdown",
   "metadata": {},
   "source": [
    "### Run A* planning"
   ]
  },
  {
   "cell_type": "code",
   "execution_count": 11,
   "metadata": {},
   "outputs": [
    {
     "name": "stdout",
     "output_type": "stream",
     "text": [
      "1\n",
      "3\n",
      "4\n",
      "6\n",
      "8\n",
      "7\n",
      "9\n",
      "8\n",
      "8\n",
      "10\n",
      "9\n",
      "9\n",
      "11\n",
      "10\n",
      "11\n"
     ]
    },
    {
     "data": {
      "image/png": "[encoded data removed]",
      "text/plain": [
       "<Figure size 720x720 with 1 Axes>"
      ]
     },
     "metadata": {
      "needs_background": "light"
     },
     "output_type": "display_data"
    }
   ],
   "source": [
    "astar = AStar((0, 0), (width, height), x_init, x_goal, occupancy, resolution=1)\n",
    "if not astar.solve():\n",
    "    print(\"No path found! (This is normal, try re-running the block above)\")\n",
    "else:\n",
    "    plt.rcParams['figure.figsize'] = [10, 10]\n",
    "    astar.plot_path()\n",
    "    astar.plot_tree(point_size=2)"
   ]
  },
  {
   "cell_type": "markdown",
   "metadata": {},
   "source": [
    "# Smooth Trajectory "
   ]
  },
  {
   "cell_type": "code",
   "execution_count": 38,
   "metadata": {},
   "outputs": [],
   "source": [
    "def compute_smooth_plan(path, v_desired=0.15, spline_alpha=0.05) -> TrajectoryPlan:\n",
    "    # Ensure path is a numpy array\n",
    "    path = np.asarray(astar.path)\n",
    "\n",
    "    # Compute and set the following variables:\n",
    "    #   1. ts: \n",
    "    #      Compute an array of time stamps for each planned waypoint assuming some constant \n",
    "    #      velocity between waypoints. \n",
    "    #\n",
    "    #   2. path_x_spline, path_y_spline:\n",
    "    #      Fit cubic splines to the x and y coordinates of the path separately\n",
    "    #      with respect to the computed time stamp array.\n",
    "    #      Hint: Use scipy.interpolate.splrep\n",
    "    \n",
    "    ##### YOUR CODE STARTS HERE #####\n",
    "    \n",
    "    ts = np.array([0])\n",
    "    path_x = np.array([])\n",
    "    path_y = np.array([])\n",
    "    cumulative = 0\n",
    "    \n",
    "    # Separate path into x and y components\n",
    "    for i in range(0, len(path)):\n",
    "        path_x = np.append(path_x,path[i][0])\n",
    "        path_y = np.append(path_y,path[i][1])\n",
    "    \n",
    "    # Calculate cumulative time for each waypoint\n",
    "    for i in range(0,len(path)-1):\n",
    "        ts = np.append(ts,(np.linalg.norm(path[i+1] - path[i]) / v_desired)+cumulative)\n",
    "        cumulative = cumulative + ts[i+1]\n",
    "    \n",
    "    # Print arrays (if desired)\n",
    "    # print(ts)\n",
    "    # print(path_x)\n",
    "    # print(path_y)\n",
    "    \n",
    "    # Fit cubic splines for x and y\n",
    "    path_x_spline = scipy.interpolate.splrep(ts, path_x, k=3, s=spline_alpha)\n",
    "    path_y_spline = scipy.interpolate.splrep(ts, path_y, k=3, s=spline_alpha)\n",
    "    \n",
    "    # Print splines (if desired)\n",
    "    # print(path_x_spline)\n",
    "    # print(path_y_spline)\n",
    "\n",
    "    ###### YOUR CODE END HERE ######\n",
    "    \n",
    "    return TrajectoryPlan(\n",
    "        path=path,\n",
    "        path_x_spline=path_x_spline,\n",
    "        path_y_spline=path_y_spline,\n",
    "        duration=ts[-1],\n",
    "    )"
   ]
  },
  {
   "cell_type": "code",
   "execution_count": 53,
   "metadata": {},
   "outputs": [],
   "source": [
    "# construct a trajectory plan\n",
    "plan = compute_smooth_plan(astar.path, spline_alpha = 0.03)"
   ]
  },
  {
   "cell_type": "code",
   "execution_count": 54,
   "metadata": {},
   "outputs": [
    {
     "data": {
      "image/png": "[encoded data removed]",
      "text/plain": [
       "<Figure size 432x288 with 1 Axes>"
      ]
     },
     "metadata": {
      "needs_background": "light"
     },
     "output_type": "display_data"
    }
   ],
   "source": [
    "# plot AStar path v.s. smoothed path\n",
    "astar_path = np.asarray(astar.path)\n",
    "smoothed_path = plan.smoothed_path()\n",
    "\n",
    "plt.plot(astar_path[:,0], astar_path[:,1], 'b-', label='Original Path')\n",
    "plt.plot(smoothed_path[:, 0], smoothed_path[:, 1], 'r-', label='Smoothed Path')\n",
    "plt.legend()\n",
    "plt.xlabel('X')\n",
    "plt.ylabel('Y')\n",
    "plt.xlim([0, width])\n",
    "plt.ylim([0, height])\n",
    "plt.title('Path Smoothing')\n",
    "plt.grid()"
   ]
  },
  {
   "cell_type": "code",
   "execution_count": null,
   "metadata": {},
   "outputs": [],
   "source": []
  }
 ],
 "metadata": {
  "kernelspec": {
   "display_name": "Python 3 (ipykernel)",
   "language": "python",
   "name": "python3"
  },
  "language_info": {
   "codemirror_mode": {
    "name": "ipython",
    "version": 3
   },
   "file_extension": ".py",
   "mimetype": "text/x-python",
   "name": "python",
   "nbconvert_exporter": "python",
   "pygments_lexer": "ipython3",
   "version": "3.10.12"
  },
  "vscode": {
   "interpreter": {
    "hash": "6fa4ecfd1ab696fa94229ea8217b0f37aa12d1a9c1266aafb09135aac1ad0c15"
   }
  }
 },
 "nbformat": 4,
 "nbformat_minor": 4
}
