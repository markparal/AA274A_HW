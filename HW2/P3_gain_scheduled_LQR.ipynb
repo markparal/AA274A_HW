{
 "cells": [
  {
   "cell_type": "markdown",
   "metadata": {
    "id": "Mzfuee0Qcccb"
   },
   "source": [
    "# Problem 3\n",
    "We will first setup different parts of our stack before the problem. You will only be writing code and answering questions in Part 4 of this notebook. You should however follow along with the code and text in Parts 1 - 3 to understand the problem setup as you will need to use it to write your code for Part 4. You are also welcome and encouraged to look at the visualization code if interested, but you will not be required to edit or write it to complete this problem.\n",
    "\n",
    "At a high level, in this notebook we will:\n",
    "\n",
    "\n",
    "1.   Set up a class for simulating the dynamics of a planar quadrotor (drone) and for visualizing its trajectory\n",
    "2.   Write a direct method  to compute a nominal trajectory for the quadrotor to move from a starting position to an end position while avoiding an obstacle. Recall that the nominal trajectory assumes that the environment has no disturbances and the plan can be followed perfectly.\n",
    "3. Simulate what will occur if a quadrotor follows this nominal trajectory in the presence of a wind disturbance\n",
    "4. (Your task) Write a gain scheduled LQR algorithm that allows the quadrotor to correct its course as it tries to track the nominal trajectory in the presence of the wind disturbance.\n",
    "\n",
    "Let's begin!\n",
    "\n",
    "\n",
    "## Part 1 - Setting Up Dynamics and Quadrotor Trajectory Visualization\n",
    "In this problem we'll consider a planar (i.e., 2D) quadrotor depicted below\n",
    "\n",
    "![](https://drive.google.com/uc?export=view&id=1UnEFIpfZWnToer0hIbKAYmKJXrBv5MIE)\n",
    "\n",
    "with (continuous-time) nonlinear dynamics described by the ODE\n",
    "$$\n",
    "    \\begin{bmatrix}\n",
    "      \\dot x \\\\ \\dot v_x \\\\ \\dot y \\\\ \\dot v_y \\\\ \\dot \\phi \\\\ \\dot \\omega\n",
    "    \\end{bmatrix} =\n",
    "    \\begin{bmatrix}\n",
    "      v_x \\\\\n",
    "      \\frac{-(T_1 + T_2) \\sin\\phi - C_D^v v_x}{m} \\\\\n",
    "      v_y \\\\\n",
    "      \\frac{(T_1 + T_2) \\cos\\phi - C_D^v v_y}{m}  - g \\\\\n",
    "      \\omega \\\\\n",
    "      \\frac{(T_2 - T_1) \\ell - C_D^\\phi \\omega}{I_{yy}}\n",
    "    \\end{bmatrix}, \\quad T_1, T_2 \\in [0, T_{\\max}],\n",
    "$$\n",
    "where the state is given by the position in the vertical plane $(x, y)$, translational velocity $(v_x, v_y)$, pitch $\\phi$, and pitch rate $\\omega$; the controls are the thrusts $(T_1, T_2)$ for the left and right prop respectively. Additional constants appearing in the dynamics above are gravitational acceleration $g$, the quadrotor's mass $m$, moment of inertia (about the out-of-plane axis) $I_{yy}$, half-length $\\ell$, and translational and rotational drag coefficients $C_D^v$ and $C_D^\\phi$, respectively (see the code below for precise values of these constants)."
   ]
  },
  {
   "cell_type": "code",
   "execution_count": 1,
   "metadata": {
    "id": "_e0eXlywc2Qu"
   },
   "outputs": [],
   "source": [
    "%load_ext autoreload\n",
    "%autoreload 2\n",
    "import numpy as np\n",
    "\n",
    "class BasePlanarQuadrotor:\n",
    "\n",
    "    def __init__(self):\n",
    "        # Dynamics constants\n",
    "        self.x_dim = 6         # state dimension (see dynamics below)\n",
    "        self.u_dim = 2         # control dimension (see dynamics below)\n",
    "        self.g = 9.807         # gravity (m / s**2)\n",
    "        self.m = 2.5           # mass (kg)\n",
    "        self.l = 1.0           # half-length (m)\n",
    "        self.Iyy = 1.0         # moment of inertia about the out-of-plane axis (kg * m**2)\n",
    "        self.Cd_v = 0.25       # translational drag coefficient\n",
    "        self.Cd_phi = 0.02255  # rotational drag coefficient\n",
    "\n",
    "        # Control constraints\n",
    "        self.max_thrust_per_prop = 0.75 * self.m * self.g  # total thrust-to-weight ratio = 1.5\n",
    "        self.min_thrust_per_prop = 0  # at least until variable-pitch quadrotors become mainstream :D\n",
    "\n",
    "    def ode(self, state, control):\n",
    "        \"\"\"Continuous-time dynamics of a planar quadrotor expressed as an ODE.\"\"\"\n",
    "        x, v_x, y, v_y, phi, omega = state\n",
    "        T_1, T_2 = control\n",
    "        return np.array([\n",
    "            v_x,\n",
    "            (-(T_1 + T_2) * np.sin(phi) - self.Cd_v * v_x) / self.m,\n",
    "            v_y,\n",
    "            ((T_1 + T_2) * np.cos(phi) - self.Cd_v * v_y) / self.m - self.g,\n",
    "            omega,\n",
    "            ((T_2 - T_1) * self.l - self.Cd_phi * omega) / self.Iyy,\n",
    "        ])\n",
    "\n",
    "    def discrete_step(self, state, control, dt):\n",
    "        \"\"\"Discrete-time dynamics (Euler-integrated) of a planar quadrotor.\"\"\"\n",
    "        # RK4 would be more accurate, but this runs more quickly in a homework problem;\n",
    "        # in this notebook we use Euler integration for both control and simulation for\n",
    "        # illustrative purposes (i.e., so that planning and simulation match exactly).\n",
    "        # Often simulation may use higher fidelity models than those used for planning/\n",
    "        # control, e.g., using `scipy.integrate.odeint` here for much more accurate\n",
    "        # (and expensive) integration.\n",
    "        return state + dt * self.ode(state, control)\n",
    "\n",
    "    def get_continuous_jacobians(self, state_nominal, control_nominal):\n",
    "        \"\"\"Continuous-time Jacobians of planar quadrotor, written as a function of input state and control\"\"\"\n",
    "        x, v_x, y, v_y, phi, omega = state_nominal\n",
    "        T_1, T_2 = control_nominal\n",
    "        A = np.array([[0., 1., 0., 0., 0., 0.],\n",
    "                    [0., -self.Cd_v/self.m, 0., 0., -(T_1 + T_2)*np.cos(phi)/self.m, 0.],\n",
    "                    [0., 0., 0., 1., 0., 0.],\n",
    "                    [0., 0., 0., -self.Cd_v/self.m, -(T_1+T_2)*np.sin(phi)/self.m, 0.],\n",
    "                    [0., 0., 0., 0., 0., 1.],\n",
    "                    [0., 0., 0., 0., 0., -self.Cd_phi/self.Iyy]])\n",
    "        B = np.array([[0., 0.],\n",
    "                    [-np.sin(phi)/self.m, -np.sin(phi)/self.m],\n",
    "                    [0., 0.],\n",
    "                    [np.cos(phi)/self.m, np.cos(phi)/self.m],\n",
    "                    [0., 0.],\n",
    "                    [-self.l/self.Iyy, self.l/self.Iyy]])\n",
    "        return A, B\n",
    "        "
   ]
  },
  {
   "cell_type": "code",
   "execution_count": 2,
   "metadata": {
    "id": "YBewjW9VgyHp"
   },
   "outputs": [],
   "source": [
    "#@title Definition of `PlanarQuadrotor`, which adds code for creating animations on top of `BasePlanarQuadrotor` above.\n",
    "\n",
    "import matplotlib\n",
    "import matplotlib.animation\n",
    "import matplotlib.pyplot as plt\n",
    "\n",
    "class PlanarQuadrotor(BasePlanarQuadrotor):\n",
    "    def generate_patch_group(self, frame_height, frame_width, axle_height, axle_width, prop_width, prop_height, hub_width, hub_height):\n",
    "        # Artists\n",
    "        frame = matplotlib.patches.Rectangle((-frame_width / 2, -frame_height / 2),\n",
    "                                             frame_width,\n",
    "                                             frame_height,\n",
    "                                             facecolor=\"tab:blue\",\n",
    "                                             edgecolor=\"k\")\n",
    "        hub = matplotlib.patches.FancyBboxPatch((-hub_width / 2, -hub_height / 2),\n",
    "                                                hub_width,\n",
    "                                                hub_height,\n",
    "                                                facecolor=\"tab:blue\",\n",
    "                                                edgecolor=\"k\",\n",
    "                                                boxstyle=\"Round,pad=0.,rounding_size=0.05\")\n",
    "        axle_left = matplotlib.patches.Rectangle((-frame_width / 2, frame_height / 2),\n",
    "                                                 axle_width,\n",
    "                                                 axle_height,\n",
    "                                                 facecolor=\"tab:blue\",\n",
    "                                                 edgecolor=\"k\")\n",
    "        axle_right = matplotlib.patches.Rectangle((frame_width / 2 - axle_width, frame_height / 2),\n",
    "                                                  axle_width,\n",
    "                                                  axle_height,\n",
    "                                                  facecolor=\"tab:blue\",\n",
    "                                                  edgecolor=\"k\")\n",
    "        prop_left = matplotlib.patches.Ellipse(((axle_width - frame_width) / 2, frame_height / 2 + axle_height),\n",
    "                                               prop_width,\n",
    "                                               prop_height,\n",
    "                                               facecolor=\"tab:gray\",\n",
    "                                               edgecolor=\"k\",\n",
    "                                               alpha=0.7)\n",
    "        prop_right = matplotlib.patches.Ellipse(((frame_width - axle_width) / 2, frame_height / 2 + axle_height),\n",
    "                                                prop_width,\n",
    "                                                prop_height,\n",
    "                                                facecolor=\"tab:gray\",\n",
    "                                                edgecolor=\"k\",\n",
    "                                                alpha=0.7)\n",
    "        bubble = matplotlib.patches.Circle((0, 0), 1.5 * self.l, facecolor=\"None\", edgecolor=\"red\", linestyle=\"--\")\n",
    "        patches = (frame, hub, axle_left, axle_right, prop_left, prop_right, bubble)\n",
    "        return patches\n",
    "\n",
    "    def animate(self, states, dt, ax=None):\n",
    "        x, y, phi = states[:, 0], states[:, 2], states[:, 4]\n",
    "\n",
    "        frame_width = 2 * self.l\n",
    "        frame_height = 0.15\n",
    "        axle_height = 0.2\n",
    "        axle_width = 0.05\n",
    "        prop_width = 0.5 * frame_width\n",
    "        prop_height = 1.5 * frame_height\n",
    "        hub_width = 0.3 * frame_width\n",
    "        hub_height = 2.5 * frame_height\n",
    "\n",
    "        # Figure and axis\n",
    "        if ax is None:\n",
    "            fig, ax = plt.subplots(figsize=(12, 6))\n",
    "        else:\n",
    "            fig = ax.figure\n",
    "        x_min, x_max = np.min(x), np.max(x)\n",
    "        x_pad = (frame_width + prop_width) / 2 + 0.1 * (x_max - x_min)\n",
    "        y_min, y_max = np.min(y), np.max(y)\n",
    "        y_pad = (frame_width + prop_width) / 2 + 0.1 * (y_max - y_min)\n",
    "        ax.set_xlim([x_min - x_pad, x_max + x_pad])\n",
    "        ax.set_ylim([y_min - y_pad, y_max + y_pad])\n",
    "        ax.set_aspect(1.)\n",
    "\n",
    "        ax.plot(x, y)\n",
    "\n",
    "        for k in range(0,len(states),10):\n",
    "            patch_group = self.generate_patch_group(frame_height, frame_width, axle_height, axle_width, prop_width, prop_height, hub_width, hub_height)\n",
    "            transform = matplotlib.transforms.Affine2D().rotate_around(0., 0., phi[k])\n",
    "            transform += matplotlib.transforms.Affine2D().translate(x[k], y[k])\n",
    "            transform += ax.transData\n",
    "            for patch in patch_group:\n",
    "                patch.set_transform(transform)\n",
    "                ax.add_patch(patch)\n",
    "\n",
    "        plt.show()\n"
   ]
  },
  {
   "cell_type": "markdown",
   "metadata": {
    "id": "N9-R7d8zwB2i"
   },
   "source": [
    "## Part 2 - Computing a Nominal Trajectory using a Direct Method"
   ]
  },
  {
   "cell_type": "code",
   "execution_count": 3,
   "metadata": {
    "id": "tC_d371UhEXZ"
   },
   "outputs": [],
   "source": [
    "#@title Implementation of a direct method for computing a nominal trajectory driving from stable hover at $(x, y) = (0, 5)$ to $(10, 7)$, avoiding an obstacle centered at $(5, 5)$.\n",
    "\n",
    "import scipy.optimize\n",
    "\n",
    "def optimize_nominal_trajectory(N=50, return_optimize_result=False):\n",
    "    planar_quad = PlanarQuadrotor()\n",
    "    x_0 = np.array([0., 0., 5., 0., 0., 0.])\n",
    "    x_f = np.array([10., 0., 7., 0., 0., 0.])\n",
    "\n",
    "    equilibrium_thrust = 0.5 * planar_quad.m * planar_quad.g\n",
    "    x_dim = planar_quad.x_dim\n",
    "    u_dim = planar_quad.u_dim\n",
    "\n",
    "    def pack_decision_variables(final_time, states, controls):\n",
    "        \"\"\"Packs decision variables (final_time, states, controls) into a 1D vector.\n",
    "\n",
    "        Args:\n",
    "            final_time: scalar.\n",
    "            states: array of shape (N + 1, x_dim).\n",
    "            controls: array of shape (N, u_dim).\n",
    "        Returns:\n",
    "            An array `z` of shape (1 + (N + 1) * x_dim + N * u_dim,).\n",
    "        \"\"\"\n",
    "        return np.concatenate([[final_time], states.ravel(), controls.ravel()])\n",
    "\n",
    "    def unpack_decision_variables(z):\n",
    "        \"\"\"Unpacks a 1D vector into decision variables (final_time, states, controls).\n",
    "\n",
    "        Args:\n",
    "            z: array of shape (1 + (N + 1) * x_dim + N * u_dim,).\n",
    "        Returns:\n",
    "            final_time: scalar.\n",
    "            states: array of shape (N + 1, x_dim).\n",
    "            controls: array of shape (N, u_dim).\n",
    "        \"\"\"\n",
    "        final_time = z[0]\n",
    "        states = z[1:1 + (N + 1) * x_dim].reshape(N + 1, x_dim)\n",
    "        controls = z[-N * u_dim:].reshape(N, u_dim)\n",
    "        return final_time, states, controls\n",
    "\n",
    "    def cost(z):\n",
    "        final_time, states, controls = unpack_decision_variables(z)\n",
    "        dt = final_time / N\n",
    "        return final_time + dt * np.sum(np.square(controls - equilibrium_thrust))\n",
    "\n",
    "    z_guess = pack_decision_variables(10, x_0 + np.linspace(0, 1, N + 1)[:, np.newaxis] * (x_f - x_0),\n",
    "                                      equilibrium_thrust * np.ones((N, u_dim)))\n",
    "\n",
    "    bounds = scipy.optimize.Bounds(\n",
    "        pack_decision_variables(0., -np.inf * np.ones((N + 1, x_dim)),\n",
    "                                planar_quad.min_thrust_per_prop * np.ones((N, u_dim))),\n",
    "        pack_decision_variables(np.inf, np.inf * np.ones((N + 1, x_dim)),\n",
    "                                planar_quad.max_thrust_per_prop * np.ones((N, u_dim))))\n",
    "\n",
    "    def equality_constraints(z):\n",
    "        final_time, states, controls = unpack_decision_variables(z)\n",
    "        dt = final_time / N\n",
    "        constraint_list = [states[i + 1] - planar_quad.discrete_step(states[i], controls[i], dt) for i in range(N)]\n",
    "        constraint_list.append(states[0] - x_0)\n",
    "        constraint_list.append(states[-1] - x_f)\n",
    "        return np.concatenate(constraint_list)\n",
    "\n",
    "    def inequality_constraints(z):\n",
    "        final_time, states, controls = unpack_decision_variables(z)\n",
    "        # Collision avoidance\n",
    "        return np.sum(np.square(states[:, [0, 2]] - np.array([5, 5])), -1) - 3**2\n",
    "\n",
    "    result = scipy.optimize.minimize(cost,\n",
    "                                     z_guess,\n",
    "                                     bounds=bounds,\n",
    "                                     constraints=[{\n",
    "                                         \"type\": \"eq\",\n",
    "                                         \"fun\": equality_constraints\n",
    "                                     }, {\n",
    "                                         \"type\": \"ineq\",\n",
    "                                         \"fun\": inequality_constraints\n",
    "                                     }])\n",
    "    if return_optimize_result:\n",
    "        return result\n",
    "    return unpack_decision_variables(result.x)\n",
    "\n",
    "\n",
    "def plot_obstacle(ax):\n",
    "    obstacle = matplotlib.patches.Circle((5, 5), 3 - 1.5 * planar_quad.l, facecolor=\"k\")\n",
    "    ax.add_patch(obstacle)"
   ]
  },
  {
   "cell_type": "markdown",
   "metadata": {
    "id": "_3f9WUjdjAhJ"
   },
   "source": [
    "We use nonlinear trajectory optimization to compute a nominal trajectory. This takes a few seconds to run. Better methods and better implementation are possible (planning at 100Hz, i.e., 0.01s, should be relatively easy to achieve), but the aim of the code above is to be decently readable and completely self-contained if you're interested."
   ]
  },
  {
   "cell_type": "code",
   "execution_count": 4,
   "metadata": {
    "id": "AqQ1vAPMiPJa"
   },
   "outputs": [],
   "source": [
    "planar_quad = PlanarQuadrotor()\n",
    "\n",
    "final_time, nominal_states, nominal_controls = optimize_nominal_trajectory(50)\n",
    "initial_state = nominal_states[0]\n",
    "N = len(nominal_controls)\n",
    "dt = final_time / N"
   ]
  },
  {
   "cell_type": "markdown",
   "metadata": {
    "id": "1-g7STCCkVDl"
   },
   "source": [
    "### Open-loop control, nominal conditions\n",
    "\n",
    "We simulate this trajectory under nominal conditions and (to no surprise) achieve exactly what we planned."
   ]
  },
  {
   "cell_type": "code",
   "execution_count": 5,
   "metadata": {
    "colab": {
     "base_uri": "https://localhost:8080/",
     "height": 640
    },
    "id": "uZNIYibHiYI5",
    "outputId": "f2d19dea-3680-4265-ed8f-8ff6f7a0087e"
   },
   "outputs": [
    {
     "data": {
      "image/png": "[encoded data removed]",
      "text/plain": [
       "<Figure size 864x432 with 1 Axes>"
      ]
     },
     "metadata": {
      "needs_background": "light"
     },
     "output_type": "display_data"
    }
   ],
   "source": [
    "def simulate_nominal(initial_state, nominal_controls):\n",
    "    states = [initial_state]\n",
    "    for k in range(N):\n",
    "        states.append(planar_quad.discrete_step(states[k], nominal_controls[k], dt))\n",
    "    return np.array(states)  # Equals `nominal_states` from optimization.\n",
    "\n",
    "\n",
    "fig, ax = plt.subplots(figsize=(12, 6))\n",
    "plot_obstacle(ax)\n",
    "planar_quad.animate(simulate_nominal(initial_state, nominal_controls), dt, ax)"
   ]
  },
  {
   "cell_type": "markdown",
   "metadata": {
    "id": "wUzPS595ijG6"
   },
   "source": [
    "## Part 3 - Simulating Open-loop control, with disturbance (wind field)\n",
    "\n",
    "We consider applying the same sequence of controls but now with the planar quad influence by a wind field, i.e.,\n",
    "$$\n",
    "    \\begin{bmatrix}\n",
    "      \\dot v_x \\\\ \\dot v_y\n",
    "    \\end{bmatrix} =\n",
    "    \\begin{bmatrix}\n",
    "      \\frac{-(T_1 + T_2) \\sin\\phi - C_D^v v_x}{m} + \\color{red}{w_x}\\\\\n",
    "      \\frac{(T_1 + T_2) \\cos\\phi - C_D^v v_y}{m}  - g + \\color{red}{w_y}\n",
    "    \\end{bmatrix}.\n",
    "$$\n",
    "We see the quad pushed off course, hitting the obstacle, and even leaving the extent of the wind field (the wind is 0 where no arrows are drawn)."
   ]
  },
  {
   "cell_type": "code",
   "execution_count": null,
   "metadata": {
    "id": "jp_ZrcGCkvzz"
   },
   "outputs": [],
   "source": [
    "#@title Wind field code, including definition of `apply_wind_disturbance`.\n",
    "import scipy.interpolate\n",
    "\n",
    "np.random.seed(1)\n",
    "xs, ys = np.arange(-3, 15), np.arange(3, 10)\n",
    "X, Y = np.meshgrid(xs, ys, indexing=\"ij\")\n",
    "XY = np.stack([X.ravel(), Y.ravel()], -1)\n",
    "# https://en.wikipedia.org/wiki/Gaussian_process with a squared exponential kernel.\n",
    "Wx, Wy = np.random.multivariate_normal(np.zeros(len(XY)),\n",
    "                                       np.exp(-np.sum(np.square(XY[:, None] - XY[None, :]), -1) / 16), 2)\n",
    "wind = scipy.interpolate.RegularGridInterpolator((xs, ys),\n",
    "                                                 np.stack([Wx, Wy], -1).reshape(X.shape + (2,)),\n",
    "                                                 bounds_error=False,\n",
    "                                                 fill_value=0)\n",
    "\n",
    "\n",
    "def apply_wind_disturbance(state, dt):\n",
    "    x, v_x, y, v_y, phi, omega = state\n",
    "    dv_x, dv_y = dt * wind(np.array([x, y]))[0]\n",
    "    return np.array([x, v_x + dv_x, y, v_y + dv_y, phi, omega])\n",
    "\n",
    "\n",
    "def plot_nominal_trajectory(ax):\n",
    "    ax.plot(*nominal_states[:, [0, 2]].T)\n",
    "\n",
    "\n",
    "def plot_wind(ax):\n",
    "    ax.quiver(X, Y, Wx, Wy, width=3e-3, alpha=0.2)"
   ]
  },
  {
   "cell_type": "code",
   "execution_count": null,
   "metadata": {
    "colab": {
     "base_uri": "https://localhost:8080/",
     "height": 622
    },
    "id": "PItaobUTlMd0",
    "outputId": "368b8c5b-6790-4f7b-e6ff-94069d829801"
   },
   "outputs": [],
   "source": [
    "def simulate_open_loop(initial_state, nominal_controls):\n",
    "    states = [initial_state]\n",
    "    for k in range(N):\n",
    "        next_state = planar_quad.discrete_step(states[k], nominal_controls[k], dt)\n",
    "        next_state = apply_wind_disturbance(next_state, dt)\n",
    "        states.append(next_state)\n",
    "    return np.array(states)\n",
    "\n",
    "\n",
    "planar_quad = PlanarQuadrotor()\n",
    "fig, ax = plt.subplots(figsize=(12, 6))\n",
    "plot_obstacle(ax)\n",
    "plot_nominal_trajectory(ax)\n",
    "plot_wind(ax)\n",
    "planar_quad.animate(simulate_open_loop(initial_state, nominal_controls), dt, ax)"
   ]
  },
  {
   "cell_type": "markdown",
   "metadata": {
    "id": "sGZ-_kPKVd0i"
   },
   "source": [
    "# Part 4 - LQR Controller and Gain Scheduling\n",
    "\n",
    "First we need to define a gain schedule that finds the gain matrix, K, for each point along the nominal trajectory $x^*$. Given the state weighting matrix Q and control input weighting matrix R , and matrices A, and B from the linearized dynamics at a given step of the nominal trajectory, we compute the closest nominal state $\\hat{x}^*_{i}$ to the drone's current state $x_{i}$, and the corresponding nominal controls $\\hat{u}^*_{i}$ at each step i of the trajectory. \n",
    "$\n",
    "\\begin{align}\n",
    "j_{closest} &= \\text{argmin}_{j} \\left\\|x_{i} - x_j^*\\right\\|_{2} \\\\\n",
    "\\hat{x}^*_{i} &= x_{j_{closest}} \\\\\n",
    "\\hat{u}^*_{i} &= u_{j_{closest}}\n",
    "\\end{align}\n",
    "$"
   ]
  },
  {
   "cell_type": "markdown",
   "metadata": {
    "id": "yvdTUnJkVizI"
   },
   "source": [
    "First let's define a function that finds the closest point on the nominal trajectory for any given state x."
   ]
  },
  {
   "cell_type": "code",
   "execution_count": null,
   "metadata": {
    "id": "1aBeKAWcVw3n"
   },
   "outputs": [],
   "source": [
    "def find_closest_nominal_state(current_state):\n",
    "    ################ Your code here ############################################\n",
    "    # Hint: This shouldn't take more than a couple lines\n",
    "\n",
    "    ############################################################################\n",
    "    return closest_state_idx"
   ]
  },
  {
   "cell_type": "markdown",
   "metadata": {
    "id": "d73Ci2i6wZCp"
   },
   "source": [
    "Next, we will calculate a gain schedule for the trajectory. A gain schedule maps each state in the open loop trajectory to a gains matrix, K. At each step of the trajectory, this matrix can be computed by using the matrix P, which is a solution of the ricatti equation. Refer to lecture notes and the hints below for the exact equations you will need!"
   ]
  },
  {
   "cell_type": "code",
   "execution_count": null,
   "metadata": {
    "id": "O8MWdv6tdRb9"
   },
   "outputs": [],
   "source": [
    "from scipy.linalg import solve_continuous_are as ricatti_solver\n",
    "# We will now create a gain schedule for each point in our trajectory\n",
    "gains_lookup = {} # This dictionary should map each time index of the state to a gains matrix\n",
    "Q = 100 * np.diag([1., 0.1, 1., 0.1, 0.1, 0.1])\n",
    "R = 1e0 * np.diag([1., 1.])\n",
    "\n",
    "for i in range(len(nominal_states)):\n",
    "    #################### Your code here ##########################################\n",
    "    # Hints:\n",
    "    # This problem very closely follows the lecture notes! We highly recommend\n",
    "    # going through them before attempting the problem if you haven't already\n",
    "    # done so\n",
    "    # 1. Use planar_quad.get_continuous_jacobians() to calculate the jacobians of the dynamics\n",
    "    # 2. Use the import ricatti_solver function to get P. Note that this function\n",
    "    # actually returns the transpose of P\n",
    "    # 3. Find the gains and update the gains lookup dictionary with it\n",
    "    # 4. Nominal controls are not defined for the last state. Set these to zero. \n",
    "\n",
    "    ##############################################################################\n",
    "    gains_lookup[i] = K"
   ]
  },
  {
   "cell_type": "markdown",
   "metadata": {
    "id": "7jlvE6i-KE5i"
   },
   "source": [
    "Lastly, we will implement code for closed-loop control using the LQR controller. The controls applied at a given timestep should follow the equation,\n",
    "\n",
    "$ u = \\hat{u}^*_{i} - K_i(x_i - \\hat{x}^*_{i})$\n",
    "\n",
    "where $K_i$ is the gain matrix corresponding to the closest nominal state $\\hat{x}^*_{i}$ to the current state, $x_i$"
   ]
  },
  {
   "cell_type": "code",
   "execution_count": null,
   "metadata": {},
   "outputs": [],
   "source": [
    "def simulate_closed_loop(initial_state, nominal_controls):\n",
    "    states = [initial_state]\n",
    "    for k in range(N):\n",
    "        #################### Your code here ####################################\n",
    "        # Add code to compute the new controls using the LQR controller\n",
    "        # Hints:\n",
    "        # 1. Find the closest nominal state to the current state and lookup\n",
    "        # the corresponding gain matrix\n",
    "        # 2. Use the closest nominal state, its corresponding control, and the\n",
    "        # gain matrix to compute the adjusted controls for the current state\n",
    "\n",
    "        #######################################################################\n",
    "        control = np.clip(control, planar_quad.min_thrust_per_prop, planar_quad.max_thrust_per_prop)\n",
    "        next_state = planar_quad.discrete_step(states[k], control, dt)\n",
    "        next_state = apply_wind_disturbance(next_state, dt)\n",
    "        states.append(next_state)\n",
    "    return np.array(states)\n",
    "    \n",
    "planar_quad = PlanarQuadrotor()\n",
    "fig, ax = plt.subplots(figsize=(12, 6))\n",
    "plot_obstacle(ax)\n",
    "plot_nominal_trajectory(ax)\n",
    "plot_wind(ax)\n",
    "planar_quad.animate(simulate_closed_loop(initial_state, nominal_controls), dt, ax)"
   ]
  },
  {
   "cell_type": "markdown",
   "metadata": {
    "id": "YRvESpLq5rNp"
   },
   "source": [
    "If your implementation is correct, the drone should now roughly track the trajectory. Please include this closed loop plot your written submission. There are also a few short answer questions you need to answer there!"
   ]
  }
 ],
 "metadata": {
  "colab": {
   "provenance": []
  },
  "kernelspec": {
   "display_name": "Python 3 (ipykernel)",
   "language": "python",
   "name": "python3"
  },
  "language_info": {
   "codemirror_mode": {
    "name": "ipython",
    "version": 3
   },
   "file_extension": ".py",
   "mimetype": "text/x-python",
   "name": "python",
   "nbconvert_exporter": "python",
   "pygments_lexer": "ipython3",
   "version": "3.10.12"
  },
  "vscode": {
   "interpreter": {
    "hash": "aee8b7b246df8f9039afb4144a1f6fd8d2ca17a180786b69acc140d282b71a49"
   }
  }
 },
 "nbformat": 4,
 "nbformat_minor": 1
}
